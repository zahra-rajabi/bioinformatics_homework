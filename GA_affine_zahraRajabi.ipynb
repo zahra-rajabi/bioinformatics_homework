{
 "cells": [
  {
   "cell_type": "markdown",
   "metadata": {},
   "source": [
    "# Global alignment with affine gap"
   ]
  },
  {
   "cell_type": "markdown",
   "metadata": {},
   "source": [
    "zahra rajabi"
   ]
  },
  {
   "cell_type": "code",
   "execution_count": 5,
   "metadata": {},
   "outputs": [
    {
     "name": "stdout",
     "output_type": "stream",
     "text": [
      "Aligned Sequence 1: A-CACACTA\n",
      "Aligned Sequence 2: AGCACAC-A\n",
      "Alignment Score: 8\n"
     ]
    }
   ],
   "source": [
    "def create_matrix(rows, cols):\n",
    "    # پر کردن تمام خانه های ماتریس با -inf\n",
    "    return [[float('-inf')] * cols for _ in range(rows)]\n",
    "\n",
    "def score(a, b, match=2, mismatch=-1):\n",
    "    #بررسی یکسان بودن مقدار a و b \n",
    "    return match if a == b else mismatch\n",
    "\n",
    "def global_alignment_affine(seq1, seq2, match=2, mismatch=-1, gap_open=-2, gap_extend=-1):\n",
    "    rows, cols = len(seq1) + 1, len(seq2) + 1\n",
    "\n",
    "    # Initialize matrices (ساخت 3 ماتریس مد نظر)\n",
    "    M = create_matrix(rows, cols)\n",
    "    X = create_matrix(rows, cols)\n",
    "    Y = create_matrix(rows, cols)\n",
    "    trace = create_matrix(rows, cols)\n",
    "\n",
    "    # تغییر مقدار های اولیه برای خانه های بجز ردیف اول در ماتریس x و ستون اول در ماتریس y\n",
    "    M[0][0] = 0\n",
    "    for i in range(1, rows):\n",
    "        X[i][0] = gap_open + (i - 1) * gap_extend\n",
    "        M[i][0] = X[i][0]\n",
    "    for j in range(1, cols):\n",
    "        Y[0][j] = gap_open + (j - 1) * gap_extend\n",
    "        M[0][j] = Y[0][j]\n",
    "\n",
    "    # Fill matrices\n",
    "    for i in range(1, rows):\n",
    "        for j in range(1, cols):\n",
    "            match_score = M[i - 1][j - 1] + score(seq1[i - 1], seq2[j - 1], match, mismatch)\n",
    "            X[i][j] = max(X[i - 1][j] + gap_extend, M[i - 1][j] + gap_open + gap_extend)\n",
    "            Y[i][j] = max(Y[i][j - 1] + gap_extend, M[i][j - 1] + gap_open + gap_extend)\n",
    "            M[i][j] = max(match_score, X[i][j], Y[i][j])\n",
    "\n",
    "    # Traceback\n",
    "    align1, align2 = [], []\n",
    "    i, j = rows - 1, cols - 1\n",
    "    while i > 0 or j > 0:\n",
    "        if i > 0 and j > 0 and M[i][j] == M[i - 1][j - 1] + score(seq1[i - 1], seq2[j - 1], match, mismatch):\n",
    "            align1.append(seq1[i - 1])\n",
    "            align2.append(seq2[j - 1])\n",
    "            i -= 1\n",
    "            j -= 1\n",
    "        elif i > 0 and M[i][j] == X[i][j]:\n",
    "            align1.append(seq1[i - 1])\n",
    "            align2.append('-')\n",
    "            i -= 1\n",
    "        else:\n",
    "            align1.append('-')\n",
    "            align2.append(seq2[j - 1])\n",
    "            j -= 1\n",
    "\n",
    "    align1.reverse()\n",
    "    align2.reverse()\n",
    "    return ''.join(align1), ''.join(align2), M[len(seq1)][len(seq2)]\n",
    "\n",
    "# Example\n",
    "seq1 = \"ACACACTA\"\n",
    "seq2 = \"AGCACACA\"\n",
    "result = global_alignment_affine(seq1, seq2)\n",
    "print(\"Aligned Sequence 1:\", result[0])\n",
    "print(\"Aligned Sequence 2:\", result[1])\n",
    "print(\"Alignment Score:\", result[2])\n"
   ]
  }
 ],
 "metadata": {
  "kernelspec": {
   "display_name": "Python 3",
   "language": "python",
   "name": "python3"
  },
  "language_info": {
   "codemirror_mode": {
    "name": "ipython",
    "version": 3
   },
   "file_extension": ".py",
   "mimetype": "text/x-python",
   "name": "python",
   "nbconvert_exporter": "python",
   "pygments_lexer": "ipython3",
   "version": "3.13.1"
  }
 },
 "nbformat": 4,
 "nbformat_minor": 2
}

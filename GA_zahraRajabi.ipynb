{
 "cells": [
  {
   "cell_type": "markdown",
   "metadata": {},
   "source": [
    "# Global alignment"
   ]
  },
  {
   "cell_type": "markdown",
   "metadata": {},
   "source": [
    "zahra rajabi"
   ]
  },
  {
   "cell_type": "code",
   "execution_count": 11,
   "metadata": {},
   "outputs": [
    {
     "name": "stdout",
     "output_type": "stream",
     "text": [
      "امتیاز همترازی:\n",
      "-1\n",
      "توالی‌های هم‌تراز شده:\n",
      "abac\n",
      "a-gc\n"
     ]
    }
   ],
   "source": [
    "def getMatrice(x, y, gap):\n",
    "    rows = len(x) + 1\n",
    "    cols = len(y) + 1\n",
    "    matrix = [[0 for _ in range(cols)] for _ in range(rows)]\n",
    "\n",
    "    for i in range(1, rows):\n",
    "        matrix[i][0] = matrix[i-1][0] + gap\n",
    "    for j in range(1, cols):\n",
    "        matrix[0][j] = matrix[0][j-1] + gap\n",
    "    return matrix\n",
    "\n",
    "def traceBackMatrix(x, y):\n",
    "    rows = len(x) + 1\n",
    "    cols = len(y) + 1\n",
    "    trace = [['0' for _ in range(cols)] for _ in range(rows)]\n",
    "    trace[0][0] = 'done'\n",
    "    for i in range(1, rows):\n",
    "        trace[i][0] = 'up'\n",
    "    for j in range(1, cols):\n",
    "        trace[0][j] = 'left'\n",
    "    return trace\n",
    "\n",
    "class ScoreParams:\n",
    "    def __init__(self, gap, match, mismatch):\n",
    "        self.gap = gap\n",
    "        self.match = match\n",
    "        self.mismatch = mismatch\n",
    "    #check if the a and b are the match or mismatch\n",
    "    def mismatches(self, a, b):\n",
    "        if a == b:\n",
    "            return self.match\n",
    "        else:\n",
    "            return self.mismatch\n",
    "\n",
    "def globalAlign(x, y, score):\n",
    "    rows = len(x) + 1\n",
    "    cols = len(y) + 1\n",
    "    matrix = getMatrice(x, y, score.gap)\n",
    "    trace = traceBackMatrix(x, y)\n",
    "    for i in range(1, rows):\n",
    "        for j in range(1, cols):\n",
    "            #اگه از چپ اومد\n",
    "            left = matrix[i][j-1] + score.gap\n",
    "            #اگه از بالا اومد\n",
    "            up = matrix[i-1][j] + score.gap\n",
    "            #اگر به صورت قطری حرکت کرد چه امتیازی بگیره\n",
    "            diag = matrix[i-1][j-1] + score.mismatches(x[i-1], y[j-1])\n",
    "            #حالا از بین امتیاز های محاسبه شده که از کدوم سمت بیاد بیشترین مقدار میشه امتیاز خونه [i , j]\n",
    "            matrix[i][j] = max(left, up, diag)\n",
    "            #در این قسمت از هر جهتی اومده باشه مقدارش رو ذخیره میکنیم تا هنگام برگشتن به خانه صفر و صفر جهت رو فراموش نکنیم\n",
    "            if matrix[i][j] == diag:\n",
    "                trace[i][j] = 'diag'\n",
    "            elif matrix[i][j] == up:\n",
    "                trace[i][j] = 'up'\n",
    "            else:\n",
    "                trace[i][j] = 'left'\n",
    "    return matrix, trace\n",
    "\n",
    "def getAlignedSequence(x, y, trace):\n",
    "    aligned_x = []\n",
    "    aligned_y = []\n",
    "    i = len(x)\n",
    "    j = len(y)\n",
    "    #تا زمانی که به خونه صفر و صفر نرسیدیم\n",
    "    while trace[i][j] != 'done':\n",
    "        if trace[i][j] == 'diag':\n",
    "            #اگر از قطر اومدیم به لیستمون هم مقدار x و هم y رو اضافه کن\n",
    "            aligned_x.append(x[i-1])\n",
    "            aligned_y.append(y[j-1])\n",
    "            i -= 1\n",
    "            j -= 1\n",
    "            #اگر قطری نیومدیم با توجه به جهت در اون یکی گپ بگذار\n",
    "        elif trace[i][j] == 'left':\n",
    "            aligned_x.append('-')\n",
    "            aligned_y.append(y[j-1])\n",
    "            j -= 1\n",
    "        elif trace[i][j] == 'up':\n",
    "            aligned_x.append(x[i-1])\n",
    "            aligned_y.append('-')\n",
    "            i -= 1\n",
    "    return ''.join(reversed(aligned_x)), ''.join(reversed(aligned_y))\n",
    "\n",
    "# مثال \n",
    "x = 'abac'\n",
    "y = 'agc'\n",
    "\n",
    "#با استفاده از کلاسی که تعریف کردیم مقادیر امتیاز دهی رو مشخص میکنیم و درون این متغیر ذخیره میکنیم\n",
    "score = ScoreParams(gap=-2, match=1, mismatch=-1)\n",
    "#برای محاسبه ماتریس و تریس بک هر دو اونها باید از فانکشن گلوبال الاینمنت استفاده کنند\n",
    "matrix, trace = globalAlign(x, y, score)\n",
    "\n",
    "\n",
    "aligned_x, aligned_y = getAlignedSequence(x, y, trace)\n",
    "print('امتیاز همترازی:')\n",
    "print(matrix[-1][-1])\n",
    "print('توالی‌های هم‌تراز شده:')\n",
    "\n",
    "print(aligned_x)\n",
    "print(aligned_y)\n"
   ]
  }
 ],
 "metadata": {
  "kernelspec": {
   "display_name": "Python 3",
   "language": "python",
   "name": "python3"
  },
  "language_info": {
   "codemirror_mode": {
    "name": "ipython",
    "version": 3
   },
   "file_extension": ".py",
   "mimetype": "text/x-python",
   "name": "python",
   "nbconvert_exporter": "python",
   "pygments_lexer": "ipython3",
   "version": "3.13.1"
  }
 },
 "nbformat": 4,
 "nbformat_minor": 2
}

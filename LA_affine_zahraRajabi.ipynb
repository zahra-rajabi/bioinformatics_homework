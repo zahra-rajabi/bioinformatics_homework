{
 "cells": [
  {
   "cell_type": "markdown",
   "metadata": {},
   "source": [
    "# Local alignment with affine gap"
   ]
  },
  {
   "cell_type": "markdown",
   "metadata": {},
   "source": [
    "zahra rajabi"
   ]
  },
  {
   "cell_type": "code",
   "execution_count": 4,
   "metadata": {},
   "outputs": [
    {
     "name": "stdout",
     "output_type": "stream",
     "text": [
      "Aligned Sequence 1: AGGACACA\n",
      "Aligned Sequence 2: AGCACACA\n",
      "Alignment Score: 13\n"
     ]
    }
   ],
   "source": [
    "def create_matrix(rows, cols):\n",
    "    #ساخت ماتریس \n",
    "    return [[0] * cols for _ in range(rows)]\n",
    "\n",
    "def score(a, b, match=2, mismatch=-1):\n",
    "    #بررسی یکسان بودن مقدار a و b \n",
    "    return match if a == b else mismatch\n",
    "\n",
    "def local_alignment_affine(seq1, seq2, match=2, mismatch=-1, gap_open=-2, gap_extend=-1):\n",
    "    rows, cols = len(seq1) + 1, len(seq2) + 1\n",
    "\n",
    "    # Initialize matrices\n",
    "    M = create_matrix(rows, cols)\n",
    "    X = create_matrix(rows, cols)\n",
    "    Y = create_matrix(rows, cols)\n",
    "    max_score = 0\n",
    "    max_pos = (0, 0)\n",
    "\n",
    "    # Fill matrices\n",
    "    for i in range(1, rows):\n",
    "        for j in range(1, cols):\n",
    "            match_score = M[i - 1][j - 1] + score(seq1[i - 1], seq2[j - 1], match, mismatch)\n",
    "            X[i][j] = max(X[i - 1][j] + gap_extend, M[i - 1][j] + gap_open + gap_extend)\n",
    "            Y[i][j] = max(Y[i][j - 1] + gap_extend, M[i][j - 1] + gap_open + gap_extend)\n",
    "            M[i][j] = max(0, match_score, X[i][j], Y[i][j])  # Local alignment: در لوکال الاینمنت ما امتیاز منفی نداریم\n",
    "\n",
    "            # Track max score position for traceback\n",
    "            if M[i][j] > max_score:\n",
    "                max_score = M[i][j]\n",
    "                max_pos = (i, j)\n",
    "\n",
    "    # Traceback\n",
    "    align1, align2 = [], []\n",
    "    i, j = max_pos\n",
    "    while i > 0 and j > 0 and M[i][j] > 0:\n",
    "        current = M[i][j]\n",
    "        diag = M[i - 1][j - 1]\n",
    "        up = X[i][j]\n",
    "        left = Y[i][j]\n",
    "\n",
    "        if current == diag + score(seq1[i - 1], seq2[j - 1], match, mismatch):\n",
    "            align1.append(seq1[i - 1])\n",
    "            align2.append(seq2[j - 1])\n",
    "            i -= 1\n",
    "            j -= 1\n",
    "        elif current == up + gap_extend:\n",
    "            align1.append(seq1[i - 1])\n",
    "            align2.append('-')\n",
    "            i -= 1\n",
    "        else:\n",
    "            align1.append('-')\n",
    "            align2.append(seq2[j - 1])\n",
    "            j -= 1\n",
    "\n",
    "    align1.reverse()\n",
    "    align2.reverse()\n",
    "    return ''.join(align1), ''.join(align2), max_score\n",
    "\n",
    "# Example\n",
    "seq1 = \"GAGGACACACTA\"\n",
    "seq2 = \"AGCACACA\"\n",
    "result = local_alignment_affine(seq1, seq2)\n",
    "print(\"Aligned Sequence 1:\", result[0])\n",
    "print(\"Aligned Sequence 2:\", result[1])\n",
    "print(\"Alignment Score:\", result[2])\n"
   ]
  },
  {
   "cell_type": "code",
   "execution_count": null,
   "metadata": {},
   "outputs": [],
   "source": []
  }
 ],
 "metadata": {
  "kernelspec": {
   "display_name": "Python 3",
   "language": "python",
   "name": "python3"
  },
  "language_info": {
   "codemirror_mode": {
    "name": "ipython",
    "version": 3
   },
   "file_extension": ".py",
   "mimetype": "text/x-python",
   "name": "python",
   "nbconvert_exporter": "python",
   "pygments_lexer": "ipython3",
   "version": "3.13.1"
  }
 },
 "nbformat": 4,
 "nbformat_minor": 2
}

{
 "cells": [
  {
   "cell_type": "markdown",
   "metadata": {},
   "source": [
    "# Local alignment"
   ]
  },
  {
   "cell_type": "markdown",
   "metadata": {},
   "source": [
    "zahra rajabi\n"
   ]
  },
  {
   "cell_type": "code",
   "execution_count": 4,
   "metadata": {},
   "outputs": [
    {
     "name": "stdout",
     "output_type": "stream",
     "text": [
      "توالی 1 هم‌تراز شده: TGTT-AC\n",
      "توالی 2 هم‌تراز شده: TGTTGAC\n",
      "امتیاز هم‌ترازی: 11\n"
     ]
    }
   ],
   "source": [
    "def create_matrix(rows, cols):\n",
    "    return [[0] * cols for _ in range(rows)]\n",
    "\n",
    "def score(a, b, match=2, mismatch=-1):\n",
    "    return match if a == b else mismatch\n",
    "\n",
    "def local_alignment(seq1, seq2, match=2, mismatch=-1, gap=-1):\n",
    "    # مقدر دهی اولیه و ساخت ماتریس امتیاز دهی\n",
    "    rows, cols = len(seq1) + 1, len(seq2) + 1\n",
    "    matrix = create_matrix(rows, cols)\n",
    "    max_score = 0\n",
    "    best_pos = None\n",
    "\n",
    "    # پر کردن ماتریس\n",
    "    for r in range(1, rows):\n",
    "        for c in range(1, cols):\n",
    "            diag = matrix[r - 1][c - 1] + score(seq1[r - 1], seq2[c - 1], match, mismatch)\n",
    "            up = matrix[r - 1][c] + gap\n",
    "            left = matrix[r][c - 1] + gap\n",
    "            matrix[r][c] = max(0, diag, up, left)\n",
    "            # مقایسه کردن امتیاز خانه فعلی با بالاترین امتیاز\n",
    "            if matrix[r][c] >= max_score:\n",
    "                max_score = matrix[r][c]\n",
    "                best_pos = (r, c)\n",
    "\n",
    "    # traceback \n",
    "    align1, align2 = [], []\n",
    "    r, c = best_pos\n",
    "    while r > 0 and c > 0 and matrix[r][c] > 0:\n",
    "        current = matrix[r][c]\n",
    "        diag = matrix[r - 1][c - 1]\n",
    "        up = matrix[r - 1][c]\n",
    "        left = matrix[r][c - 1]\n",
    "# حرکت در قطر\n",
    "        if current == diag + score(seq1[r - 1], seq2[c - 1], match, mismatch):\n",
    "            align1.append(seq1[r - 1])\n",
    "            align2.append(seq2[c - 1])\n",
    "            r -= 1\n",
    "            c -= 1\n",
    "# حرکت به بالا و گپ در رشته پایینی\n",
    "        elif current == up + gap:\n",
    "            align1.append(seq1[r - 1])\n",
    "            align2.append('-')\n",
    "            r -= 1\n",
    "\n",
    "# حرکت به چپ و گپ در رشته بالایی\n",
    "        else:\n",
    "            align1.append('-')\n",
    "            align2.append(seq2[c - 1])\n",
    "            c -= 1\n",
    "\n",
    "    align1.reverse()\n",
    "    align2.reverse()\n",
    "    return ''.join(align1), ''.join(align2), max_score\n",
    "\n",
    "# مثال\n",
    "seq1 = \"TGTTACGG\"\n",
    "seq2 = \"GTTGTTGACTA\"\n",
    "\n",
    "result = local_alignment(seq1, seq2)\n",
    "\n",
    "print(\"توالی 1 هم‌تراز شده:\", result[0])\n",
    "print(\"توالی 2 هم‌تراز شده:\", result[1])\n",
    "print(\"امتیاز هم‌ترازی:\", result[2])"
   ]
  }
 ],
 "metadata": {
  "kernelspec": {
   "display_name": "Python 3",
   "language": "python",
   "name": "python3"
  },
  "language_info": {
   "codemirror_mode": {
    "name": "ipython",
    "version": 3
   },
   "file_extension": ".py",
   "mimetype": "text/x-python",
   "name": "python",
   "nbconvert_exporter": "python",
   "pygments_lexer": "ipython3",
   "version": "3.13.1"
  }
 },
 "nbformat": 4,
 "nbformat_minor": 2
}
